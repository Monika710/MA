{
 "cells": [
  {
   "cell_type": "code",
   "execution_count": null,
   "metadata": {},
   "outputs": [],
   "source": [
    "# from https://www.kaggle.com/takeshikobayashi/mnist-cnn-keras-with-optuna-visualization\n",
    "# from https://machinelearningapplied.com/hyperparameter-search-with-optuna-part-3-keras-cnn-classification-and-ensembling/"
   ]
  },
  {
   "cell_type": "code",
   "execution_count": 1,
   "metadata": {},
   "outputs": [],
   "source": [
    "# This Python 3 environment comes with many helpful analytics libraries installed\n",
    "# It is defined by the kaggle/python Docker image: https://github.com/kaggle/docker-python\n",
    "# For example, here's several helpful packages to load\n",
    "\n",
    "import numpy as np # linear algebra\n",
    "import pandas as pd # data processing, CSV file I/O (e.g. pd.read_csv)\n",
    "\n",
    "# Input data files are available in the read-only \"../input/\" directory\n",
    "# For example, running this (by clicking run or pressing Shift+Enter) will list all files under the input directory\n",
    "\n",
    "import os\n",
    "\n",
    "\n",
    "# You can write up to 5GB to the current directory (/kaggle/working/) that gets preserved as output when you create a version using \"Save & Run All\" \n",
    "# You can also write temporary files to /kaggle/temp/, but they won't be saved outside of the current session"
   ]
  },
  {
   "cell_type": "code",
   "execution_count": 54,
   "metadata": {},
   "outputs": [
    {
     "name": "stdout",
     "output_type": "stream",
     "text": [
      "The size of the train data:(30, 129)\n",
      "The size of the test data:(150, 129)\n"
     ]
    }
   ],
   "source": [
    "#import dataset\n",
    "import pandas as pd\n",
    "import numpy as np\n",
    "\n",
    "import optuna\n",
    "import keras\n",
    "from keras.models import Sequential\n",
    "from keras.layers import Dense, Dropout\n",
    "from keras.layers import Conv1D, GlobalMaxPooling1D \n",
    "\n",
    "import matplotlib.pyplot as plt\n",
    "import seaborn as sns\n",
    "sns.set()\n",
    " \n",
    "train = pd.read_csv('D:/FH_Dortmund/Projekt/Projektarbeit_2/time_series/dl-4-tsc-master/dataset/archives/UCRArchive_2018/BME/BME_TRAIN.tsv', sep='\\t', header=None) \n",
    "test = pd.read_csv('D:/FH_Dortmund/Projekt/Projektarbeit_2/time_series/dl-4-tsc-master/dataset/archives/UCRArchive_2018/BME/BME_TEST.tsv', sep='\\t', header=None)\n",
    "print('The size of the train data:' + str(train.shape))\n",
    "print('The size of the test data:' + str(test.shape))"
   ]
  },
  {
   "cell_type": "code",
   "execution_count": 91,
   "metadata": {},
   "outputs": [],
   "source": [
    "# from read_dataset\n",
    "y_train = train.values[:, 0]\n",
    "y_test = test.values[:, 0]\n",
    "\n",
    "X_train = train.drop(columns=[0])\n",
    "X_test = test.drop(columns=[0])\n",
    "\n",
    "X_train.columns = range(X_train.shape[1])\n",
    "X_test.columns = range(X_test.shape[1])\n",
    "\n",
    "X_train = X_train.values\n",
    "X_test = X_test.values\n",
    "\n",
    "# print(\"X_train is: \", X_train)\n",
    "# print(\"X_train shape is: \", X_train.shape)\n",
    "# print(\"X_test shape is: \", X_test.shape)\n",
    "# print(\"y_train shape is: \", y_train)\n",
    "# print(\"y_test shape is: \", y_test)"
   ]
  },
  {
   "cell_type": "code",
   "execution_count": 38,
   "metadata": {
    "scrolled": false
   },
   "outputs": [],
   "source": [
    "# Warum müssen Sie hier Daten in float-type umwandeln?\n",
    "\n",
    "# transform float type\n",
    "\n",
    "#X_train = (train.iloc[:,1:].values).astype('float32') \n",
    "#y_train = train.iloc[:,0].values\n",
    "#X_test = (test.iloc[:,1:].values).astype('float32')\n"
   ]
  },
  {
   "cell_type": "code",
   "execution_count": 59,
   "metadata": {},
   "outputs": [
    {
     "name": "stdout",
     "output_type": "stream",
     "text": [
      "X_train2 の長さ: 24\n",
      "X_test2 の長さ: 6\n"
     ]
    }
   ],
   "source": [
    "#train_test_split again\n",
    "from sklearn.model_selection import train_test_split\n",
    " \n",
    "X_train2, X_test2, y_train2, y_test2 = train_test_split(X_train,\n",
    "                                                        y_train, \n",
    "                                                        test_size = 0.2,\n",
    "                                                        train_size = 0.8) #教師データ少なくなるのが怖いので4:1で分割\n",
    "                                                       # stratify = y_train)\n",
    "print(f'X_train2 の長さ: {len(X_train2)}')\n",
    "print(f'X_test2 の長さ: {len(X_test2)}')\n"
   ]
  },
  {
   "cell_type": "code",
   "execution_count": 60,
   "metadata": {},
   "outputs": [],
   "source": [
    "#reshape data \n",
    "# img_rows, img_cols = 128, 128\n",
    "# num_classes = 3\n",
    "\n",
    "X_train = X_train2\n",
    "X_test = X_test2\n",
    "\n",
    "\n",
    "y_train= y_train2"
   ]
  },
  {
   "cell_type": "code",
   "execution_count": 61,
   "metadata": {},
   "outputs": [
    {
     "data": {
      "text/plain": [
       "(24, 128)"
      ]
     },
     "execution_count": 61,
     "metadata": {},
     "output_type": "execute_result"
    }
   ],
   "source": [
    "X_train.shape"
   ]
  },
  {
   "cell_type": "code",
   "execution_count": 62,
   "metadata": {},
   "outputs": [],
   "source": [
    "import optuna\n",
    "import keras\n",
    "from keras.models import Sequential\n",
    "from keras.layers import Dense, Dropout, Flatten\n",
    "from keras.layers import Conv1D, GlobalAveragePooling1D, BatchNormalization\n",
    "\n",
    "# img_rows, img_cols = 28, 28\n",
    "num_classes = 3\n",
    "\n",
    "# Das machen ich nichts.\n",
    "# define the CNN model\n",
    "def create_model(num_layer, mid_units, num_filters, dropout_rate):\n",
    "    \n",
    "    model = Sequential()\n",
    "    model.add(Conv1D(filters=num_filters[0], kernel_size=8,\n",
    "                 activation = \"relu\",\n",
    "                 padding=\"same\",\n",
    "                 input_shape = (23, 0)))\n",
    "    model.add(BatchNormalization())\n",
    "    for i in range(1,num_layer):\n",
    "        model.add(Conv1D(filters=num_filters[i], kernel_size=5, padding=\"same\", activation=\"relu\"))\n",
    "    \n",
    "    model.add(GlobalAveragePooling1D())\n",
    "    model.add(Dropout(dropout_rate[0]))\n",
    " #  model.add(Flatten())\n",
    "    model.add(Dense(mid_units))\n",
    "    model.add(Dropout(dropout_rate[1]))\n",
    "    model.add(Dense(num_classes, activation='softmax'))\n",
    "    \n",
    "    return model"
   ]
  },
  {
   "cell_type": "code",
   "execution_count": 89,
   "metadata": {},
   "outputs": [],
   "source": [
    "def objective(trial):\n",
    "    print(\"Optimize Start\")\n",
    "    \n",
    "    #clear_session\n",
    "    keras.backend.clear_session()\n",
    "    \n",
    "    #number of the convolution layer\n",
    "    num_layer = trial.suggest_int(\"num_layer\", 2, 4)\n",
    "    \n",
    "    #number of the each convolution layer filter\n",
    "    num_filters = trial.suggest_categorical('num_filters', [16, 32, 64, 128])\n",
    "    \n",
    "    #kernel_size\n",
    "    kernel_size = trial.suggest_int('kernel_size', 3, 8)\n",
    "    \n",
    "    #activation = trial.suggest_categorical(\"activation\", [\"relu\", \"sigmoid\"])\n",
    "    \n",
    "    #batch_size\n",
    "    batch_size = trial.suggest_categorical('batch_size', [32, 64, 96, 128])\n",
    "    \n",
    "    #drop_out\n",
    "    drop_out = trial.suggest_discrete_uniform('drop_out', 0.05, 0.5, 0.05)\n",
    "    \n",
    "    dict_params = {'num_layer':num_layer,\n",
    "                   'num_filters':num_filters,\n",
    "                   'kernel_size':kernel_size,\n",
    "                   'batch_size':batch_size,\n",
    "                   'drop_out':drop_out}\n",
    "    \n",
    "    \n",
    "    #create cnn model\n",
    "    # model = create_model(num_layer, mid_units, num_filters, dropout_rate,)\n",
    "    # ------------------------------------------------------------------\n",
    "    # start of cnn coding   \n",
    "    self.input_shape = input_shape\n",
    "    input_tensor = Input(shape=self.input_shape)\n",
    "         \n",
    "    # 1st cnn block\n",
    "    x = BatchNormalization()(input_tensor)\n",
    "    x = Activation('relu')(x)\n",
    "    x = Conv1D(filters=dict_params['num_filters'],\n",
    "               kernel_size=dict_params['kernel_size'], \n",
    "               strides=1, padding='same')(x)\n",
    "    #x = MaxPooling2D()(x)\n",
    "    x = Dropout(dict_params['drop_out'])(x)\n",
    "         \n",
    "    # additional cnn blocks\n",
    "    for iblock in range(dict_params['num_cnn_blocks'] - 1):\n",
    "        x = BatchNormalization()(x)\n",
    "        x = Activation('relu')(x)\n",
    "        x = Conv1D(filters=dict_params['num_filters'],\n",
    "                   kernel_size=dict_params['kernel_size'],\n",
    "                   strides=1, padding='same')(x)\n",
    "        x = Dropout(dict_params['drop_out'])(x)\n",
    "                             \n",
    "\n",
    "    x = Dropout(dict_params['drop_out'])(x)\n",
    "    x = GlobalAveragePooling1D(x)\n",
    "  #  x = Dense(dict_params['num_dense_nodes']//dict_params['dense_nodes_divisor'], \n",
    "  #            activation='relu')(x)\n",
    "    output_tensor = Dense(self.number_of_classes, activation='softmax')(x)\n",
    "    \n",
    "    #------------------------------------------------------------------\n",
    "    \n",
    "    #compile\n",
    "    model = Model(inputs=input_tensor, outputs=output_tensor)\n",
    "    opt = Adam(lr=0.00025)  # default = 0.001\n",
    "    model.compile(optimizer=opt,\n",
    "                  loss=\"categorical_crossentropy\",\n",
    "                  metrics=[\"accuracy\"])\n",
    "    \n",
    "    history = model.fit(X_train, y_train, verbose=0, epochs=20, batch_size=128, validation_split=0.1)\n",
    "    \n",
    "    scores = model.evaluate(X_train, y_train)\n",
    "    print('accuracy={}'.format(*scores))\n",
    "    \n",
    "    #検証用データに対する正答率が最大となるハイパーパラメータを求める\n",
    "    #return 1 - history.history[\"val_acc\"][-1]\n",
    "    return 1 - history.history[\"val_acc\"][-1]"
   ]
  },
  {
   "cell_type": "code",
   "execution_count": 90,
   "metadata": {
    "scrolled": false
   },
   "outputs": [
    {
     "name": "stderr",
     "output_type": "stream",
     "text": [
      "\u001b[32m[I 2022-03-16 13:50:27,821]\u001b[0m A new study created in memory with name: no-name-5c319f58-1181-482c-b8fb-27a4d4149863\u001b[0m\n",
      "\u001b[33m[W 2022-03-16 13:50:27,826]\u001b[0m Trial 0 failed because of the following error: NameError(\"name 'input_shape' is not defined\")\u001b[0m\n",
      "Traceback (most recent call last):\n",
      "  File \"D:\\Anaconda\\lib\\site-packages\\optuna\\study\\_optimize.py\", line 213, in _run_trial\n",
      "    value_or_values = func(trial)\n",
      "  File \"D:\\TMP/ipykernel_9308/1806945611.py\", line 48, in objective\n",
      "    self.input_shape = input_shape\n",
      "NameError: name 'input_shape' is not defined\n"
     ]
    },
    {
     "name": "stdout",
     "output_type": "stream",
     "text": [
      "Optimize Start\n"
     ]
    },
    {
     "ename": "NameError",
     "evalue": "name 'input_shape' is not defined",
     "output_type": "error",
     "traceback": [
      "\u001b[1;31m---------------------------------------------------------------------------\u001b[0m",
      "\u001b[1;31mNameError\u001b[0m                                 Traceback (most recent call last)",
      "\u001b[1;32mD:\\TMP/ipykernel_9308/1383536651.py\u001b[0m in \u001b[0;36m<module>\u001b[1;34m\u001b[0m\n\u001b[0;32m      1\u001b[0m \u001b[0mstudy\u001b[0m \u001b[1;33m=\u001b[0m \u001b[0moptuna\u001b[0m\u001b[1;33m.\u001b[0m\u001b[0mcreate_study\u001b[0m\u001b[1;33m(\u001b[0m\u001b[1;33m)\u001b[0m\u001b[1;33m\u001b[0m\u001b[1;33m\u001b[0m\u001b[0m\n\u001b[1;32m----> 2\u001b[1;33m \u001b[0mstudy\u001b[0m\u001b[1;33m.\u001b[0m\u001b[0moptimize\u001b[0m\u001b[1;33m(\u001b[0m\u001b[0mobjective\u001b[0m\u001b[1;33m,\u001b[0m \u001b[0mn_trials\u001b[0m\u001b[1;33m=\u001b[0m\u001b[1;36m2\u001b[0m\u001b[1;33m)\u001b[0m\u001b[1;33m\u001b[0m\u001b[1;33m\u001b[0m\u001b[0m\n\u001b[0m",
      "\u001b[1;32mD:\\Anaconda\\lib\\site-packages\\optuna\\study\\study.py\u001b[0m in \u001b[0;36moptimize\u001b[1;34m(self, func, n_trials, timeout, n_jobs, catch, callbacks, gc_after_trial, show_progress_bar)\u001b[0m\n\u001b[0;32m    398\u001b[0m             )\n\u001b[0;32m    399\u001b[0m \u001b[1;33m\u001b[0m\u001b[0m\n\u001b[1;32m--> 400\u001b[1;33m         _optimize(\n\u001b[0m\u001b[0;32m    401\u001b[0m             \u001b[0mstudy\u001b[0m\u001b[1;33m=\u001b[0m\u001b[0mself\u001b[0m\u001b[1;33m,\u001b[0m\u001b[1;33m\u001b[0m\u001b[1;33m\u001b[0m\u001b[0m\n\u001b[0;32m    402\u001b[0m             \u001b[0mfunc\u001b[0m\u001b[1;33m=\u001b[0m\u001b[0mfunc\u001b[0m\u001b[1;33m,\u001b[0m\u001b[1;33m\u001b[0m\u001b[1;33m\u001b[0m\u001b[0m\n",
      "\u001b[1;32mD:\\Anaconda\\lib\\site-packages\\optuna\\study\\_optimize.py\u001b[0m in \u001b[0;36m_optimize\u001b[1;34m(study, func, n_trials, timeout, n_jobs, catch, callbacks, gc_after_trial, show_progress_bar)\u001b[0m\n\u001b[0;32m     64\u001b[0m     \u001b[1;32mtry\u001b[0m\u001b[1;33m:\u001b[0m\u001b[1;33m\u001b[0m\u001b[1;33m\u001b[0m\u001b[0m\n\u001b[0;32m     65\u001b[0m         \u001b[1;32mif\u001b[0m \u001b[0mn_jobs\u001b[0m \u001b[1;33m==\u001b[0m \u001b[1;36m1\u001b[0m\u001b[1;33m:\u001b[0m\u001b[1;33m\u001b[0m\u001b[1;33m\u001b[0m\u001b[0m\n\u001b[1;32m---> 66\u001b[1;33m             _optimize_sequential(\n\u001b[0m\u001b[0;32m     67\u001b[0m                 \u001b[0mstudy\u001b[0m\u001b[1;33m,\u001b[0m\u001b[1;33m\u001b[0m\u001b[1;33m\u001b[0m\u001b[0m\n\u001b[0;32m     68\u001b[0m                 \u001b[0mfunc\u001b[0m\u001b[1;33m,\u001b[0m\u001b[1;33m\u001b[0m\u001b[1;33m\u001b[0m\u001b[0m\n",
      "\u001b[1;32mD:\\Anaconda\\lib\\site-packages\\optuna\\study\\_optimize.py\u001b[0m in \u001b[0;36m_optimize_sequential\u001b[1;34m(study, func, n_trials, timeout, catch, callbacks, gc_after_trial, reseed_sampler_rng, time_start, progress_bar)\u001b[0m\n\u001b[0;32m    161\u001b[0m \u001b[1;33m\u001b[0m\u001b[0m\n\u001b[0;32m    162\u001b[0m         \u001b[1;32mtry\u001b[0m\u001b[1;33m:\u001b[0m\u001b[1;33m\u001b[0m\u001b[1;33m\u001b[0m\u001b[0m\n\u001b[1;32m--> 163\u001b[1;33m             \u001b[0mtrial\u001b[0m \u001b[1;33m=\u001b[0m \u001b[0m_run_trial\u001b[0m\u001b[1;33m(\u001b[0m\u001b[0mstudy\u001b[0m\u001b[1;33m,\u001b[0m \u001b[0mfunc\u001b[0m\u001b[1;33m,\u001b[0m \u001b[0mcatch\u001b[0m\u001b[1;33m)\u001b[0m\u001b[1;33m\u001b[0m\u001b[1;33m\u001b[0m\u001b[0m\n\u001b[0m\u001b[0;32m    164\u001b[0m         \u001b[1;32mexcept\u001b[0m \u001b[0mException\u001b[0m\u001b[1;33m:\u001b[0m\u001b[1;33m\u001b[0m\u001b[1;33m\u001b[0m\u001b[0m\n\u001b[0;32m    165\u001b[0m             \u001b[1;32mraise\u001b[0m\u001b[1;33m\u001b[0m\u001b[1;33m\u001b[0m\u001b[0m\n",
      "\u001b[1;32mD:\\Anaconda\\lib\\site-packages\\optuna\\study\\_optimize.py\u001b[0m in \u001b[0;36m_run_trial\u001b[1;34m(study, func, catch)\u001b[0m\n\u001b[0;32m    262\u001b[0m \u001b[1;33m\u001b[0m\u001b[0m\n\u001b[0;32m    263\u001b[0m     \u001b[1;32mif\u001b[0m \u001b[0mstate\u001b[0m \u001b[1;33m==\u001b[0m \u001b[0mTrialState\u001b[0m\u001b[1;33m.\u001b[0m\u001b[0mFAIL\u001b[0m \u001b[1;32mand\u001b[0m \u001b[0mfunc_err\u001b[0m \u001b[1;32mis\u001b[0m \u001b[1;32mnot\u001b[0m \u001b[1;32mNone\u001b[0m \u001b[1;32mand\u001b[0m \u001b[1;32mnot\u001b[0m \u001b[0misinstance\u001b[0m\u001b[1;33m(\u001b[0m\u001b[0mfunc_err\u001b[0m\u001b[1;33m,\u001b[0m \u001b[0mcatch\u001b[0m\u001b[1;33m)\u001b[0m\u001b[1;33m:\u001b[0m\u001b[1;33m\u001b[0m\u001b[1;33m\u001b[0m\u001b[0m\n\u001b[1;32m--> 264\u001b[1;33m         \u001b[1;32mraise\u001b[0m \u001b[0mfunc_err\u001b[0m\u001b[1;33m\u001b[0m\u001b[1;33m\u001b[0m\u001b[0m\n\u001b[0m\u001b[0;32m    265\u001b[0m     \u001b[1;32mreturn\u001b[0m \u001b[0mtrial\u001b[0m\u001b[1;33m\u001b[0m\u001b[1;33m\u001b[0m\u001b[0m\n\u001b[0;32m    266\u001b[0m \u001b[1;33m\u001b[0m\u001b[0m\n",
      "\u001b[1;32mD:\\Anaconda\\lib\\site-packages\\optuna\\study\\_optimize.py\u001b[0m in \u001b[0;36m_run_trial\u001b[1;34m(study, func, catch)\u001b[0m\n\u001b[0;32m    211\u001b[0m \u001b[1;33m\u001b[0m\u001b[0m\n\u001b[0;32m    212\u001b[0m     \u001b[1;32mtry\u001b[0m\u001b[1;33m:\u001b[0m\u001b[1;33m\u001b[0m\u001b[1;33m\u001b[0m\u001b[0m\n\u001b[1;32m--> 213\u001b[1;33m         \u001b[0mvalue_or_values\u001b[0m \u001b[1;33m=\u001b[0m \u001b[0mfunc\u001b[0m\u001b[1;33m(\u001b[0m\u001b[0mtrial\u001b[0m\u001b[1;33m)\u001b[0m\u001b[1;33m\u001b[0m\u001b[1;33m\u001b[0m\u001b[0m\n\u001b[0m\u001b[0;32m    214\u001b[0m     \u001b[1;32mexcept\u001b[0m \u001b[0mexceptions\u001b[0m\u001b[1;33m.\u001b[0m\u001b[0mTrialPruned\u001b[0m \u001b[1;32mas\u001b[0m \u001b[0me\u001b[0m\u001b[1;33m:\u001b[0m\u001b[1;33m\u001b[0m\u001b[1;33m\u001b[0m\u001b[0m\n\u001b[0;32m    215\u001b[0m         \u001b[1;31m# TODO(mamu): Handle multi-objective cases.\u001b[0m\u001b[1;33m\u001b[0m\u001b[1;33m\u001b[0m\u001b[0m\n",
      "\u001b[1;32mD:\\TMP/ipykernel_9308/1806945611.py\u001b[0m in \u001b[0;36mobjective\u001b[1;34m(trial)\u001b[0m\n\u001b[0;32m     46\u001b[0m     \u001b[1;31m# ------------------------------------------------------------------\u001b[0m\u001b[1;33m\u001b[0m\u001b[1;33m\u001b[0m\u001b[0m\n\u001b[0;32m     47\u001b[0m     \u001b[1;31m# start of cnn coding\u001b[0m\u001b[1;33m\u001b[0m\u001b[1;33m\u001b[0m\u001b[0m\n\u001b[1;32m---> 48\u001b[1;33m     \u001b[0mself\u001b[0m\u001b[1;33m.\u001b[0m\u001b[0minput_shape\u001b[0m \u001b[1;33m=\u001b[0m \u001b[0minput_shape\u001b[0m\u001b[1;33m\u001b[0m\u001b[1;33m\u001b[0m\u001b[0m\n\u001b[0m\u001b[0;32m     49\u001b[0m     \u001b[0minput_tensor\u001b[0m \u001b[1;33m=\u001b[0m \u001b[0mInput\u001b[0m\u001b[1;33m(\u001b[0m\u001b[0mshape\u001b[0m\u001b[1;33m=\u001b[0m\u001b[0mself\u001b[0m\u001b[1;33m.\u001b[0m\u001b[0minput_shape\u001b[0m\u001b[1;33m)\u001b[0m\u001b[1;33m\u001b[0m\u001b[1;33m\u001b[0m\u001b[0m\n\u001b[0;32m     50\u001b[0m \u001b[1;33m\u001b[0m\u001b[0m\n",
      "\u001b[1;31mNameError\u001b[0m: name 'input_shape' is not defined"
     ]
    }
   ],
   "source": [
    "\n",
    "study = optuna.create_study()\n",
    "study.optimize(objective, n_trials=2)"
   ]
  },
  {
   "cell_type": "code",
   "execution_count": null,
   "metadata": {},
   "outputs": [],
   "source": [
    "plt.plot([t.value for t in study.trials])"
   ]
  },
  {
   "cell_type": "code",
   "execution_count": null,
   "metadata": {},
   "outputs": [],
   "source": [
    "optuna.visualization.plot_contour(study)"
   ]
  },
  {
   "cell_type": "code",
   "execution_count": null,
   "metadata": {},
   "outputs": [],
   "source": [
    "# パラメータ多すぎてよくわからんので聞いているパラメータを選びます\n",
    "optuna.visualization.plot_param_importances(study)"
   ]
  },
  {
   "cell_type": "code",
   "execution_count": null,
   "metadata": {},
   "outputs": [],
   "source": [
    "optuna.visualization.plot_contour(study, params=[\"dropout_rate1\",\"num_filter_0\",\"num_layer\",\"dropout_rate0\",\"num_filter_1\"])"
   ]
  },
  {
   "cell_type": "code",
   "execution_count": null,
   "metadata": {},
   "outputs": [],
   "source": [
    "study.best_params"
   ]
  },
  {
   "cell_type": "code",
   "execution_count": null,
   "metadata": {},
   "outputs": [],
   "source": [
    "optuna.visualization.plot_optimization_history(study)"
   ]
  },
  {
   "cell_type": "code",
   "execution_count": null,
   "metadata": {},
   "outputs": [],
   "source": [
    "optuna.visualization.plot_optimization_history(study)"
   ]
  },
  {
   "cell_type": "code",
   "execution_count": null,
   "metadata": {},
   "outputs": [],
   "source": [
    "optuna.visualization.plot_intermediate_values(study)"
   ]
  },
  {
   "cell_type": "code",
   "execution_count": null,
   "metadata": {},
   "outputs": [],
   "source": [
    "optuna.visualization.plot_parallel_coordinate(study)"
   ]
  },
  {
   "cell_type": "code",
   "execution_count": null,
   "metadata": {},
   "outputs": [],
   "source": [
    "optuna.visualization.plot_contour(study, params=[\"num_filter_0\", \"num_filter_1\",\"num_filter_2\",\"num_filter_3\",\"num_filter_4\"])"
   ]
  },
  {
   "cell_type": "code",
   "execution_count": null,
   "metadata": {},
   "outputs": [],
   "source": [
    "optuna.visualization.plot_slice(study)"
   ]
  }
 ],
 "metadata": {
  "kernelspec": {
   "display_name": "Python 3",
   "language": "python",
   "name": "python3"
  },
  "language_info": {
   "codemirror_mode": {
    "name": "ipython",
    "version": 3
   },
   "file_extension": ".py",
   "mimetype": "text/x-python",
   "name": "python",
   "nbconvert_exporter": "python",
   "pygments_lexer": "ipython3",
   "version": "3.9.7"
  }
 },
 "nbformat": 4,
 "nbformat_minor": 2
}
